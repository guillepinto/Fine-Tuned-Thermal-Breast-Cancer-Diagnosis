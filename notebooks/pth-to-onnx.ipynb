{
 "cells": [
  {
   "cell_type": "code",
   "execution_count": 1,
   "metadata": {},
   "outputs": [],
   "source": [
    "import sys\n",
    "import os\n",
    "from pathlib import Path\n",
    "\n",
    "# Obtener el directorio raíz del proyecto (un nivel arriba desde el notebook)\n",
    "project_root = Path(os.getcwd()).parent\n",
    "\n",
    "# Añadir el directorio raíz y el subdirectorio que contiene el módulo networks al sys.path\n",
    "if str(project_root) not in sys.path:\n",
    "    sys.path.append(str(project_root))\n",
    "if str(project_root) not in sys.path:\n",
    "    sys.path.append(str(project_root))"
   ]
  },
  {
   "cell_type": "code",
   "execution_count": 2,
   "metadata": {},
   "outputs": [],
   "source": [
    "import torch\n",
    "import torch.onnx\n",
    "from huggingface_hub import HfApi\n",
    "from networks import vit"
   ]
  },
  {
   "cell_type": "code",
   "execution_count": 3,
   "metadata": {},
   "outputs": [],
   "source": [
    "def convert_pth_to_onnx(pth_path, onnx_path):\n",
    "    # Cargar el modelo ViT\n",
    "    # model = ViTForImageClassification.from_pretrained(\"google/vit-base-patch16-224\")\n",
    "    model = vit(n_channels=1, num_classes=1, fine_tune='full')\n",
    "    \n",
    "    # Cargar los pesos del checkpoint\n",
    "    state_dict = torch.load(pth_path, map_location=\"cpu\")\n",
    "    model.load_state_dict(state_dict['model_state_dict'])\n",
    "    model.eval()\n",
    "\n",
    "    # Preparar un input de ejemplo\n",
    "    dummy_input = torch.randn(1, 1, 224, 224)\n",
    "\n",
    "    # Exportar a ONNX\n",
    "    torch.onnx.export(model, dummy_input, onnx_path, opset_version=14)\n",
    "\n",
    "def upload_to_huggingface(repo_id, file_path):\n",
    "    api = HfApi()\n",
    "    api.upload_file(\n",
    "        path_or_fileobj=file_path,\n",
    "        path_in_repo=file_path.split(\"/\")[-1],\n",
    "        repo_id=repo_id,\n",
    "        repo_type=\"model\",\n",
    "    )"
   ]
  },
  {
   "cell_type": "code",
   "execution_count": 4,
   "metadata": {},
   "outputs": [
    {
     "name": "stderr",
     "output_type": "stream",
     "text": [
      "/usr/lib/python3/dist-packages/torch/__init__.py:1561: TracerWarning: Converting a tensor to a Python boolean might cause the trace to be incorrect. We can't record the data flow of Python values, so this value will be treated as a constant in the future. This means that the trace might not generalize to other inputs!\n",
      "  assert condition, message\n"
     ]
    },
    {
     "data": {
      "application/vnd.jupyter.widget-view+json": {
       "model_id": "04f4911a32234dea9490399f3fbd0151",
       "version_major": 2,
       "version_minor": 0
      },
      "text/plain": [
       "h7knv1x1_1_checkpoint.onnx:   0%|          | 0.00/342M [00:00<?, ?B/s]"
      ]
     },
     "metadata": {},
     "output_type": "display_data"
    },
    {
     "data": {
      "application/vnd.jupyter.widget-view+json": {
       "model_id": "8a448c71b1ba43aebae70f6a7107bf49",
       "version_major": 2,
       "version_minor": 0
      },
      "text/plain": [
       "7bv92e7b_2_checkpoint.onnx:   0%|          | 0.00/342M [00:00<?, ?B/s]"
      ]
     },
     "metadata": {},
     "output_type": "display_data"
    },
    {
     "data": {
      "application/vnd.jupyter.widget-view+json": {
       "model_id": "b9d8cd30a2094291ba5504dc64da492b",
       "version_major": 2,
       "version_minor": 0
      },
      "text/plain": [
       "7sraw3yj_3_checkpoint.onnx:   0%|          | 0.00/342M [00:00<?, ?B/s]"
      ]
     },
     "metadata": {},
     "output_type": "display_data"
    },
    {
     "data": {
      "application/vnd.jupyter.widget-view+json": {
       "model_id": "a89710ce32b54c54814744ac13ec578f",
       "version_major": 2,
       "version_minor": 0
      },
      "text/plain": [
       "cypjhdg1_4_checkpoint.onnx:   0%|          | 0.00/342M [00:00<?, ?B/s]"
      ]
     },
     "metadata": {},
     "output_type": "display_data"
    },
    {
     "data": {
      "application/vnd.jupyter.widget-view+json": {
       "model_id": "a7d604b192534891831f30be04a22f84",
       "version_major": 2,
       "version_minor": 0
      },
      "text/plain": [
       "ok5dhuqe_5_checkpoint.onnx:   0%|          | 0.00/342M [00:00<?, ?B/s]"
      ]
     },
     "metadata": {},
     "output_type": "display_data"
    },
    {
     "data": {
      "application/vnd.jupyter.widget-view+json": {
       "model_id": "be6325792a7049409aa9984826a7efff",
       "version_major": 2,
       "version_minor": 0
      },
      "text/plain": [
       "st7nnu18_6_checkpoint.onnx:   0%|          | 0.00/342M [00:00<?, ?B/s]"
      ]
     },
     "metadata": {},
     "output_type": "display_data"
    },
    {
     "data": {
      "application/vnd.jupyter.widget-view+json": {
       "model_id": "201886af54784253ba5053740a813e7c",
       "version_major": 2,
       "version_minor": 0
      },
      "text/plain": [
       "0kma18yo_7_checkpoint.onnx:   0%|          | 0.00/342M [00:00<?, ?B/s]"
      ]
     },
     "metadata": {},
     "output_type": "display_data"
    },
    {
     "name": "stdout",
     "output_type": "stream",
     "text": [
      "Conversión y carga completadas.\n"
     ]
    }
   ],
   "source": [
    "# Ejemplo de uso\n",
    "repo_id = \"SemilleroCV/vit-base-patch16-224-thermal-breast-cancer\"\n",
    "\n",
    "checkpoints_path = '../checkpoints/vit_32_full_00001/vit-base-patch16-224-thermal-breast-cancer'\n",
    "\n",
    "models_list = ['h7knv1x1_1_checkpoint', '7bv92e7b_2_checkpoint', \n",
    "               '7sraw3yj_3_checkpoint', 'cypjhdg1_4_checkpoint', \n",
    "               'ok5dhuqe_5_checkpoint', 'st7nnu18_6_checkpoint',\n",
    "               '0kma18yo_7_checkpoint']\n",
    "\n",
    "for model in models_list:\n",
    "    pth_path = f\"{checkpoints_path}/{model}.pth\"\n",
    "    onnx_path = f\"{checkpoints_path}/{model}.onnx\"\n",
    "    \n",
    "    # Convertir de .pth a .onnx\n",
    "    convert_pth_to_onnx(pth_path, onnx_path)\n",
    "    \n",
    "    # Subir a Hugging Face\n",
    "    upload_to_huggingface(repo_id, onnx_path)\n",
    "\n",
    "print(\"Conversión y carga completadas.\")"
   ]
  }
 ],
 "metadata": {
  "kernelspec": {
   "display_name": "Python 3",
   "language": "python",
   "name": "python3"
  },
  "language_info": {
   "codemirror_mode": {
    "name": "ipython",
    "version": 3
   },
   "file_extension": ".py",
   "mimetype": "text/x-python",
   "name": "python",
   "nbconvert_exporter": "python",
   "pygments_lexer": "ipython3",
   "version": "3.10.12"
  }
 },
 "nbformat": 4,
 "nbformat_minor": 2
}
